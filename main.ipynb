{
  "nbformat": 4,
  "nbformat_minor": 0,
  "metadata": {
    "colab": {
      "name": "Ising_ML_Tflow.ipynb",
      "provenance": [],
      "collapsed_sections": [],
      "toc_visible": true,
      "machine_shape": "hm",
      "authorship_tag": "ABX9TyP7fmT1RmEvZRCkIwudYeOv",
      "include_colab_link": true
    },
    "kernelspec": {
      "name": "python3",
      "display_name": "Python 3"
    },
    "accelerator": "GPU"
  },
  "cells": [
    {
      "cell_type": "markdown",
      "metadata": {
        "id": "view-in-github",
        "colab_type": "text"
      },
      "source": [
        "<a href=\"https://colab.research.google.com/github/dinesh110598/IsingMCMC-tensorflow/blob/main/main.ipynb\" target=\"_parent\"><img src=\"https://colab.research.google.com/assets/colab-badge.svg\" alt=\"Open In Colab\"/></a>"
      ]
    },
    {
      "cell_type": "markdown",
      "metadata": {
        "id": "EIRXOB9qMgZK"
      },
      "source": [
        "# **Ising MCMC with Tensorflow**"
      ]
    },
    {
      "cell_type": "markdown",
      "metadata": {
        "id": "7gbriZTOwv0P"
      },
      "source": [
        "Here we construct a graph in Tesnorflow 2.0 that performs a MCMC simulation of Ising model at different temperatures and plot the behaviour of magnetisation with temperature"
      ]
    },
    {
      "cell_type": "markdown",
      "metadata": {
        "id": "MWCk9FQwffca"
      },
      "source": [
        "Let's first import the required libraries!\n"
      ]
    },
    {
      "cell_type": "code",
      "metadata": {
        "id": "mdRWh8ZZfNBC"
      },
      "source": [
        "import numpy as np\n",
        "import matplotlib.pyplot as plt\n",
        "from time import time\n",
        "import os\n",
        "import itertools\n",
        "%matplotlib inline"
      ],
      "execution_count": null,
      "outputs": []
    },
    {
      "cell_type": "code",
      "metadata": {
        "id": "b_ydz7YIeNlC"
      },
      "source": [
        "from __future__ import absolute_import, division, print_function, unicode_literals\n",
        "\n",
        "try:\n",
        "  # %tensorflow_version only exists in Colab.\n",
        "  %tensorflow_version 2.x\n",
        "except Exception:\n",
        "  pass\n",
        "\n",
        "import tensorflow.math as tfm\n",
        "import tensorflow as tf"
      ],
      "execution_count": null,
      "outputs": []
    },
    {
      "cell_type": "markdown",
      "metadata": {
        "id": "s6i7-0BAkomO"
      },
      "source": [
        "Now, we shall define a class that will manipulate spin lattices. It shall include a method that calculates lattice energy according to the Ferromagnetic Ising Hamiltonian:\n",
        "\\begin{align}\n",
        "H = -J \\displaystyle\\sum_{bonds}(S^z_i S^z_{i+1}) \n",
        "\\end{align}\n",
        "We will use a more speed-optimized Monte Carlo Ising model algorithm as compared to the rudimentary ones used in previous versions. Also, we look at an ensemble of size 4 x 4 of Ising lattices of size 256 X 256 each rather than individual lattices alone, in the aim of being more compatible with concepts in statistical physics, like order parameters being ensemble averages rather than over individual lattices. $ \\sigma $"
      ]
    },
    {
      "cell_type": "markdown",
      "metadata": {
        "id": "2O7kRMANmETt"
      },
      "source": [
        "Let's first define some constants of the model:"
      ]
    },
    {
      "cell_type": "code",
      "metadata": {
        "id": "x-hpazdJl6aX"
      },
      "source": [
        "def create_iterator(shape):\n",
        "    \"\"\"Create an iterator with a given shape.\"\"\"\n",
        "    dims = [range(dim) for dim in shape]\n",
        "    return itertools.product(*dims)\n",
        "\n",
        "def create_list(shape):\n",
        "    \"\"\"Create a list with a given shape and default value None.\"\"\"\n",
        "    if shape:\n",
        "        return [create_list(shape[1:]) for _ in range(shape[0])]\n",
        "\n",
        "lattice_len = 128\n",
        "SUBLAT_LEN = lattice_len // 2\n",
        "#Length of sublattice above defines the size of square containing a particular\n",
        "#color alone, say black or white, in the optimal version of checkerboard algm\n",
        "\n",
        "kernel = np.eye(SUBLAT_LEN, k=0, dtype=np.float32) \n",
        "kernel += np.eye(SUBLAT_LEN, k=1, dtype=np.float32)\n",
        "kernel [SUBLAT_LEN-1][0] = np.float32 (1)\n",
        "#This helps us implement periodic boundary conditions on each lattice rather\n",
        "#the entire ensemble as suggested in the original alogorithm\n",
        "\n",
        "#End of constants"
      ],
      "execution_count": null,
      "outputs": []
    },
    {
      "cell_type": "markdown",
      "metadata": {
        "id": "55W5tIcbJbuN"
      },
      "source": [
        "## GPU optimization:"
      ]
    },
    {
      "cell_type": "markdown",
      "metadata": {
        "id": "Ms9yfxnMbXQJ"
      },
      "source": [
        "This is the function that traces an autograph to optimize the resource-heavy calculations:"
      ]
    },
    {
      "cell_type": "code",
      "metadata": {
        "id": "j_9gwCU1SG0O"
      },
      "source": [
        "with tf.device('/GPU:0'):\n",
        "    ensemble = create_list (ens_shape[:2])\n",
        "    for i, j in create_iterator ([2,2]):\n",
        "        ensemble[i][j] = tf.Variable (tf.ones (ens_shape[2:], tf.float32))\n",
        "    KERNEL_MAT = tf.constant (kernel, tf.float32)\n",
        "    ens_shape = [2,2,40,SUBLAT_LEN,SUBLAT_LEN]\n",
        "\n",
        "@tf.function\n",
        "def equilib (iter, T):\n",
        "    def get_inverse(T):\n",
        "        \"\"\"Returns the inverse of a number.\"\"\"\n",
        "        return tfm.reciprocal (T)\n",
        "\n",
        "    def sum_of_nearest_neighbors (black):\n",
        "        if black == True:\n",
        "            sum_nn_00 = (tf.matmul(ensemble[0][1], KERNEL_MAT) +\n",
        "            tf.matmul(KERNEL_MAT, ensemble[1][0], transpose_a=True))\n",
        "            sum_nn_11 = (tf.matmul(KERNEL_MAT, ensemble[0][1]) +\n",
        "            tf.matmul(ensemble[1][0], KERNEL_MAT, transpose_b=True))\n",
        "            return sum_nn_00, sum_nn_11\n",
        "        else:\n",
        "            sum_nn_01 = (tf.matmul(ensemble[0][0], KERNEL_MAT, transpose_b=True) +\n",
        "                    tf.matmul(KERNEL_MAT, ensemble[1][1], transpose_a=True))\n",
        "            sum_nn_10 = (tf.matmul(KERNEL_MAT, ensemble[0][0]) +\n",
        "                        tf.matmul(ensemble[1][1], KERNEL_MAT))\n",
        "            return sum_nn_01, sum_nn_10\n",
        "\n",
        "    def update_optim (T):\n",
        "        def update (probs, black):\n",
        "            if black:\n",
        "                idx = [[0, 0], [1, 1]]\n",
        "            else:\n",
        "                idx = [[0, 1], [1, 0]]\n",
        "\n",
        "            sum_nn_color = sum_of_nearest_neighbors (black)\n",
        "\n",
        "            for [idx0, idx1], sum_nn in zip(idx, sum_nn_color):\n",
        "                acceptance_ratio = (-2 * get_inverse (T) * sum_nn *\n",
        "                                    ensemble[idx0][idx1])\n",
        "                flips = tf.cast(probs[idx0][idx1] < acceptance_ratio,\n",
        "                                dtype= tf.float32)\n",
        "            #Instead of demanding probabilities be less than exp(-2*sum_nn/T) for \n",
        "            #all spins, we take an equivalent condition of log (prob) < -2*sum_nn/T\n",
        "                ensemble[idx0][idx1].assign_sub (flips*ensemble[idx0][idx1]*2)\n",
        "\n",
        "        probs = tf.math.log(tf.random.uniform(ens_shape, dtype=tf.float32))\n",
        "        update(probs, black=True)\n",
        "        update(probs, black=False)\n",
        "        return ensemble\n",
        "    \n",
        "    print (\"Traced\")\n",
        "\n",
        "    #Initialize the Ising lattice to +1s\n",
        "    for i, j in create_iterator ([2,2]):\n",
        "        ensemble[i][j].assign (tf.ones (ens_shape[2:], tf.float32))\n",
        "\n",
        "    for _ in tf.range(iter):\n",
        "        update_optim (T)\n",
        "    return ensemble"
      ],
      "execution_count": null,
      "outputs": []
    },
    {
      "cell_type": "markdown",
      "metadata": {
        "id": "HsnAK5r4hlD2"
      },
      "source": [
        "Now, we are ready to calculate the average equilibrium magnetisations at different temperatures, with stepsize $ 0.1 k_B $. The data for magnetization and corresponding temperatures are collected using two lists:"
      ]
    },
    {
      "cell_type": "code",
      "metadata": {
        "id": "iloX6FnckXmW",
        "colab": {
          "base_uri": "https://localhost:8080/"
        },
        "outputId": "86e30a66-a3b8-4684-8b2b-1dd4d6e855e4"
      },
      "source": [
        "#Contains list of variables describing\n",
        "#lattices for all temperature data points\n",
        "\n",
        "def generate_graph (upper_t = 3., lower_t = 1.5, step = 0.1):\n",
        "    temp = lower_t\n",
        "    _len_ = int((upper_t - lower_t) // step)\n",
        "    data = np.empty((2,_len_), dtype=np.float32)\n",
        "    iter = tf.constant (300)\n",
        "    val = np.empty ((2,2),np.float32)\n",
        "    for n in range (_len_):\n",
        "        ensemble = equilib (iter, tf.constant(temp))\n",
        "        for i,j in create_iterator ([2,2]):\n",
        "            val[i][j] = ensemble[i][j].numpy().mean()\n",
        "        data[0][n] = temp\n",
        "        data[1][n] = val.mean()\n",
        "        temp += step\n",
        "        #print (\"Iteration\", n)\n",
        "    #graph, ax = plt.subplots()\n",
        "    #ax.plot (data[0], data[1], 'r-', linewidth = 2, label = 'Magnetisation')\n",
        "    #ax.legend (loc = 'upper right')\n",
        "    #ax.grid()\n",
        "    #plt.show()\n",
        "\n",
        "y = equilib (300, tf.constant (0.8))"
      ],
      "execution_count": null,
      "outputs": [
        {
          "output_type": "stream",
          "text": [
            "Traced\n"
          ],
          "name": "stdout"
        }
      ]
    },
    {
      "cell_type": "code",
      "metadata": {
        "colab": {
          "base_uri": "https://localhost:8080/"
        },
        "id": "cBq3QgF1NLbr",
        "outputId": "a9c6a86d-6db8-4c38-f4a2-e52fa2263257"
      },
      "source": [
        "x1 = tf.ones (ens_shape, tf.float32)\n",
        "x2 = tf.random.uniform (ens_shape[2:])\n",
        "print (tf.matmul (x1[1,0], x2).shape)"
      ],
      "execution_count": null,
      "outputs": [
        {
          "output_type": "stream",
          "text": [
            "(40, 64, 64)\n"
          ],
          "name": "stdout"
        }
      ]
    },
    {
      "cell_type": "markdown",
      "metadata": {
        "id": "jn9umx2VfpjI"
      },
      "source": [
        "Let's compare the speed with numba-cuda based simulation:"
      ]
    },
    {
      "cell_type": "code",
      "metadata": {
        "id": "6XdmrXp2fGbZ"
      },
      "source": [
        "from numba import cuda\n",
        "from time import time\n",
        "import functools\n",
        "import math\n",
        "\n",
        "def timeit(n=10):\n",
        "    \"\"\"\n",
        "    Decorator to run function n times and   print out the total time elapsed.\n",
        "    \"\"\"\n",
        "    def dec(func):\n",
        "        @functools.wraps(func)\n",
        "        def wrapped(*args, **kwargs):\n",
        "            t0 = time()\n",
        "            for i in range(n):\n",
        "                func(*args, **kwargs)\n",
        "            print(\"%s iterated %d times\\nTime elapsed %.3fs\\n\" % (\n",
        "                func.__name__, n, time() - t0))\n",
        "        return wrapped\n",
        "    return dec"
      ],
      "execution_count": null,
      "outputs": []
    },
    {
      "cell_type": "code",
      "metadata": {
        "id": "EltMrWnveeHZ"
      },
      "source": [
        "threadsperblock = (8,8,1)\n",
        "blockspergrid = (16,16,40)\n",
        "shape = (128,128)\n",
        "ens_size = 40\n",
        "\n",
        "@cuda.jit\n",
        "def update_black (spin, seed, T):\n",
        "\n",
        "    def random_uniform (x,y,z):\n",
        "        seed[x,y,z] = np.int32((seed[x,y,z]*1664525 + 1013904223) % 2**31)\n",
        "        return seed[x,y,z] / (2**31)\n",
        "\n",
        "    def bvc (x):\n",
        "        return 0 if x == spin.shape[0] else x\n",
        "    \n",
        "    def sum_nn (x, y, z):\n",
        "        value = 0\n",
        "        value += spin [bvc(x+1), y, z]\n",
        "        value += spin [x-1, y, z]\n",
        "        value += spin [x, bvc(y+1), z]\n",
        "        value += spin[x, y-1, z]\n",
        "        return value\n",
        "\n",
        "    def calc (x, y, z):\n",
        "        probs = random_uniform (x, y, z)\n",
        "        if (probs < math.exp(-2*spin[x,y,z]*sum_nn(x,y,z)/T[0])):\n",
        "            spin[x,y,z] *= np.int8(-1)\n",
        "    \n",
        "    x,y,z= cuda.grid(3)\n",
        "    p,q = x%2,y%2\n",
        "\n",
        "    if ((p==0 and q==0) or (p==1 and q==1)):\n",
        "        calc (x,y,z)\n",
        "\n",
        "@cuda.jit\n",
        "def update_white (spin, seed, T):\n",
        "\n",
        "    def random_uniform (x,y,z):\n",
        "        seed[x,y,z] = np.int32((seed[x,y,z]*1664525 + 1013904223) % 2**31)\n",
        "        return seed[x,y,z] / (2**31)\n",
        "\n",
        "    def bvc (x):\n",
        "        return 0 if x == spin.shape[0] else x\n",
        "    \n",
        "    def sum_nn (x, y, z):\n",
        "        value = 0\n",
        "        value += spin [bvc(x+1), y, z]\n",
        "        value += spin [x-1, y, z]\n",
        "        value += spin [x, bvc(y+1), z]\n",
        "        value += spin[x, y-1, z]\n",
        "        return value\n",
        "\n",
        "    def calc (x, y, z):\n",
        "        probs = random_uniform (x, y, z)\n",
        "        if (probs < math.exp(-2*spin[x,y,z]*sum_nn(x,y,z)/T[0])):\n",
        "            spin[x,y,z] *= np.int8(-1)\n",
        "    \n",
        "    x,y,z = cuda.grid(3)\n",
        "    p,q = x%2,y%2\n",
        "\n",
        "    if ((p==0 and q==1) or (p==1 and q==0)):\n",
        "        calc (x,y,z)\n",
        "\n",
        "def equilibrate (temp):\n",
        "    spin = np.ones (shape+(ens_size,), dtype= np.int8)\n",
        "    seed = np.random.randint (-10000, 10000, size=shape+(ens_size,),\n",
        "                              dtype=np.int32)\n",
        "    vr_spin = cuda.to_device (spin)\n",
        "    vr_seed = cuda.to_device (seed)\n",
        "    vr_temp = cuda.to_device (temp)\n",
        "    for _ in range (300):\n",
        "        update_black[blockspergrid,threadsperblock] (vr_spin, vr_seed, vr_temp)\n",
        "        update_white[blockspergrid,threadsperblock] (vr_spin, vr_seed, vr_temp)\n",
        "    spin = vr_spin.copy_to_host()\n",
        "    return spin\n",
        "\n",
        "def mag_data (low, high, step):\n",
        "    _len = math.ceil ((high-low) / step)\n",
        "    data_x = np.empty (_len, dtype=np.float32)\n",
        "    data_y = np.empty (_len, dtype=np.float32)\n",
        "    mags = np.empty (_len, dtype=np.float32)\n",
        "    temp = np.float32(low)\n",
        "    \n",
        "    for i in range (_len): \n",
        "        data_x[i] = temp\n",
        "        mags[i] = abs (np.mean (equilibrate(temp)))\n",
        "        temp += step \n",
        "    #graph, ax = plt.subplots()\n",
        "    #ax.plot (data_x, mags, 'r-', linewidth = 2)\n",
        "    #ax.grid()\n",
        "    #plt.show()"
      ],
      "execution_count": null,
      "outputs": []
    },
    {
      "cell_type": "code",
      "metadata": {
        "id": "2ez3QaqlgoAo",
        "colab": {
          "base_uri": "https://localhost:8080/"
        },
        "outputId": "3aff3e03-8d9e-4059-a2bd-0789106dbd87"
      },
      "source": [
        "def compute_cuda():\n",
        "    mag_data (1.5,2.5,0.1)\n",
        "\n",
        "def compute_tflow():\n",
        "    generate_graph (2.5,1.5,0.1)\n",
        "\n",
        "timeit()(compute_cuda)()\n",
        "timeit()(compute_tflow)()"
      ],
      "execution_count": null,
      "outputs": [
        {
          "output_type": "stream",
          "text": [
            "compute_cuda iterated 10 times\n",
            "Time elapsed 21.565s\n",
            "\n",
            "Tracing\n",
            "compute_tflow iterated 10 times\n",
            "Time elapsed 39.728s\n",
            "\n"
          ],
          "name": "stdout"
        }
      ]
    },
    {
      "cell_type": "markdown",
      "metadata": {
        "id": "iRYyL1NmPINK"
      },
      "source": [
        "Tensorflow graphs are slightly slower compared to Numba CUDA since explicit CUDA codes are **compiled** while graphs are aren't exactly so (the finer details are beyond my head). If there's any need to accelerate tensorflow graphs by compilation, [XLA](https://https://www.tensorflow.org/xla) is one such compiler natively supported by Tensorflow. Using XLA can potentially narrow down the speed difference between plain CUDA and TF graphs."
      ]
    }
  ]
}